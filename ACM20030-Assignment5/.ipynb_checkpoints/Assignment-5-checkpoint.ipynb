{
 "cells": [
  {
   "cell_type": "markdown",
   "metadata": {},
   "source": [
    "#  Assignment 5\n",
    "\n",
    "This assignment covers material on matrices, norms, condition numbers and eigensystems.\n",
    "\n",
    "The breakdown of the marks is as follows:\n",
    "\n",
    "Question 0 - [1 mark]  \n",
    "Question 1 - [7 marks]  \n",
    "Questino 2 - [6 marks]  \n",
    "Question 3 - [7 marks]  \n",
    "Question 4 - [9 marks]  "
   ]
  },
  {
   "cell_type": "markdown",
   "metadata": {},
   "source": [
    "# Question 0\n",
    "\n",
    "You should have saved this notebook to your ACM20030-Assignments folder. Now:\n",
    "- commit the notebook to your local repository\n",
    "- push the changes to the GitHub"
   ]
  },
  {
   "cell_type": "code",
   "execution_count": 25,
   "metadata": {},
   "outputs": [],
   "source": [
    "import numpy as np\n",
    "from numpy import linalg as la\n",
    "np.set_printoptions(linewidth=200)  # This stops line wrapping of larger matrices"
   ]
  },
  {
   "cell_type": "markdown",
   "metadata": {},
   "source": [
    "# Question 1 - practice manipulating arrays\n",
    "\n",
    "This questions asks you write a few functions for manipulating arrays of data"
   ]
  },
  {
   "cell_type": "markdown",
   "metadata": {},
   "source": [
    "## Q1 a\n",
    "\n",
    "Write a function that checks if a given $n\\times n$ matrix is symmetric. Use only loops and `.shape` function from numpy (do not use any other special numpy functions)."
   ]
  },
  {
   "cell_type": "code",
   "execution_count": 26,
   "metadata": {},
   "outputs": [],
   "source": [
    "def SymCheck(A):\n",
    "    imax=A.shape[0]\n",
    "    jmax=A.shape[1]\n",
    "    i=0\n",
    "    j=0\n",
    "    while i<imax:\n",
    "        j=i\n",
    "        while j<jmax:\n",
    "            if A[i][j]==A[j][i]:\n",
    "                j+=1\n",
    "            else:\n",
    "                print(\"This matrix is not symmetric.\")\n",
    "                return\n",
    "        i+=1\n",
    "    \n",
    "    print(\"This matrix is symmetric.\")\n",
    "    return\n",
    "                "
   ]
  },
  {
   "cell_type": "markdown",
   "metadata": {},
   "source": [
    "Test your function on the two matrices below"
   ]
  },
  {
   "cell_type": "code",
   "execution_count": 27,
   "metadata": {},
   "outputs": [
    {
     "name": "stdout",
     "output_type": "stream",
     "text": [
      "This matrix is symmetric.\n"
     ]
    }
   ],
   "source": [
    "A = np.random.rand(5,5)\n",
    "SymMatrix = (A + A.T)/2\n",
    "SymCheck(SymMatrix)"
   ]
  },
  {
   "cell_type": "code",
   "execution_count": null,
   "metadata": {},
   "outputs": [],
   "source": []
  },
  {
   "cell_type": "markdown",
   "metadata": {},
   "source": [
    "## Q1 b\n",
    "\n",
    "Write a function to transpose a general $n\\times n$ matrix. Do this by writing loops and not using any special functions like `np.transpose()`, `A.T`, or any functions from any other library (`np.zeroes`, `np.ones`, `np.shape`, etc are all ok to use)."
   ]
  },
  {
   "cell_type": "code",
   "execution_count": 28,
   "metadata": {},
   "outputs": [],
   "source": [
    "B = np.random.rand(5,5)\n",
    "\n",
    "def MatTranspose(B):\n",
    "    imax=B.shape[0]\n",
    "    jmax=B.shape[1]\n",
    "    i=0\n",
    "    j=0\n",
    "    B_T=np.zeros([B.shape[0],B.shape[1]])\n",
    "    while i<imax:\n",
    "        \n",
    "        while j<jmax:\n",
    "            B_T[j][i]=B[i][j]\n",
    "            j+=1\n",
    "        i+=1\n",
    "        j=0\n",
    "    return B_T"
   ]
  },
  {
   "cell_type": "markdown",
   "metadata": {},
   "source": [
    "Check your code by transposing a matrix by checking that $A^T \\neq A$ and $(A^T)^T - A = 0$"
   ]
  },
  {
   "cell_type": "code",
   "execution_count": 29,
   "metadata": {
    "scrolled": false
   },
   "outputs": [
    {
     "name": "stdout",
     "output_type": "stream",
     "text": [
      "Not Equal\n",
      "B_TT-B=\n",
      " [[0. 0. 0. 0. 0. 0.]\n",
      " [0. 0. 0. 0. 0. 0.]\n",
      " [0. 0. 0. 0. 0. 0.]\n",
      " [0. 0. 0. 0. 0. 0.]\n",
      " [0. 0. 0. 0. 0. 0.]\n",
      " [0. 0. 0. 0. 0. 0.]]\n"
     ]
    }
   ],
   "source": [
    "B = np.random.rand(6,6);\n",
    "B_T=MatTranspose(B)\n",
    "if (B==B_T).all():\n",
    "    print(\"Equal\")\n",
    "else:\n",
    "    print(\"Not Equal\")\n",
    "    \n",
    "B_TT=MatTranspose(B_T)\n",
    "print(\"B_TT-B=\\n\",B_TT-B)"
   ]
  },
  {
   "cell_type": "markdown",
   "metadata": {},
   "source": [
    "## Q1c\n",
    "\n",
    "Write a function that finds the maximum entry in a matrix (where the matrix does not need to be square). Do this by writing loops and not using any special functions like `np.max` or any functions from any other library."
   ]
  },
  {
   "cell_type": "code",
   "execution_count": 30,
   "metadata": {},
   "outputs": [],
   "source": [
    "def MaxFinder(C):\n",
    "    imax=C.shape[0]\n",
    "    jmax=C.shape[1]\n",
    "    i=0\n",
    "    j=0\n",
    "    maxent=0\n",
    "    \n",
    "    while i<imax:\n",
    "        \n",
    "        while j<jmax:\n",
    "            \n",
    "            if C[i][j]>maxent:\n",
    "                maxent=C[i][j]\n",
    "                \n",
    "            j+=1\n",
    "            \n",
    "        i+=1\n",
    "        j=0\n",
    "            \n",
    "    return maxent"
   ]
  },
  {
   "cell_type": "markdown",
   "metadata": {},
   "source": [
    "Check your result by comparing to `np.max(A)` for the below random matrix"
   ]
  },
  {
   "cell_type": "code",
   "execution_count": 31,
   "metadata": {},
   "outputs": [
    {
     "name": "stdout",
     "output_type": "stream",
     "text": [
      "These results agree that the max of C is 0.9702267873412641\n"
     ]
    }
   ],
   "source": [
    "C = np.random.rand(4,5)\n",
    "maxent=MaxFinder(C)\n",
    "if np.max(C)==maxent:\n",
    "    print(\"These results agree that the max of C is\",maxent)\n",
    "else:\n",
    "    print(\"These results do not agree.\")\n"
   ]
  },
  {
   "cell_type": "markdown",
   "metadata": {},
   "source": [
    "Commit your notebook to git and push it to GitHub.\n",
    "\n",
    "# Question 2:  matrix norms\n",
    "\n",
    "In the lectures we focused on the $L^2$-norm. We also briefly mentioned the $L^1$ and $L^\\infty$ norm. Let's look at calculating those as well for a general $m\\times n$ matrix."
   ]
  },
  {
   "cell_type": "markdown",
   "metadata": {},
   "source": [
    "# Q2a\n",
    "\n",
    "The $L^1$ norm is given by\n",
    "\n",
    "$$ \\lVert A \\rVert_1 = \\max_j \\sum^m_{i=1} |a_{ij}| $$\n",
    "\n",
    "i.e., it is the max of the sums of the absolute values of each column. Write a function that computes the $L^1$-norm using only loops. The function should use no special numpy functions except `np.abs()` (`np.shape`, `np.inf`, etc are ok to use)."
   ]
  },
  {
   "cell_type": "code",
   "execution_count": 32,
   "metadata": {},
   "outputs": [],
   "source": [
    "def L1Norm(D):\n",
    "    imax=D.shape[0]\n",
    "    jmax=D.shape[1]\n",
    "    i=0\n",
    "    j=0\n",
    "    maxsum1=0\n",
    "    temp=0\n",
    "    \n",
    "    while j<jmax:\n",
    "        while i<imax:\n",
    "            temp+=D[i][j]\n",
    "            i+=1\n",
    "        if temp>maxsum1:\n",
    "            maxsum1=temp\n",
    "        i=0\n",
    "        j+=1\n",
    "        temp=0\n",
    "    return maxsum1"
   ]
  },
  {
   "cell_type": "markdown",
   "metadata": {},
   "source": [
    "Check your result against NumPy's `la.norm(A,1)` function for the following random matrix"
   ]
  },
  {
   "cell_type": "code",
   "execution_count": 33,
   "metadata": {},
   "outputs": [
    {
     "name": "stdout",
     "output_type": "stream",
     "text": [
      "These results agree that the L1 norm of D is 1.5019828548348138\n"
     ]
    }
   ],
   "source": [
    "D = np.random.rand(3,4)\n",
    "maxsum1=L1Norm(D)\n",
    "if maxsum1==la.norm(D,1):\n",
    "    print(\"These results agree that the L1 norm of D is\",maxsum1)\n",
    "else:\n",
    "    print(\"These results do not agree\")"
   ]
  },
  {
   "cell_type": "markdown",
   "metadata": {},
   "source": [
    "## Q2b\n",
    "\n",
    "The $L^\\infty$ norm is given by \n",
    "\n",
    "$$\\lVert A \\rVert_\\infty = \\max_i \\sum_{j=1}^n |a_{ij}|$$\n",
    "\n",
    "i.e., it is the max of the sums of the absolute values of each row. Write a function that computes the $L^\\infty$-norm using only loops and no special numpy functions."
   ]
  },
  {
   "cell_type": "code",
   "execution_count": 34,
   "metadata": {},
   "outputs": [],
   "source": [
    "def LINorm(D):\n",
    "    imax=D.shape[0]\n",
    "    jmax=D.shape[1]\n",
    "    i=0\n",
    "    j=0\n",
    "    maxsumI=0\n",
    "    temp=0\n",
    "    \n",
    "    while i<imax:\n",
    "        while j<jmax:\n",
    "            temp+=D[i][j]\n",
    "            j+=1\n",
    "        if temp>maxsumI:\n",
    "            maxsumI=temp\n",
    "        j=0\n",
    "        i+=1\n",
    "        temp=0\n",
    "    return maxsumI"
   ]
  },
  {
   "cell_type": "markdown",
   "metadata": {},
   "source": [
    "Check your result against NumPy's `la.norm(A,np.inf)` function for the following random matrix"
   ]
  },
  {
   "cell_type": "code",
   "execution_count": 35,
   "metadata": {},
   "outputs": [
    {
     "name": "stdout",
     "output_type": "stream",
     "text": [
      "These results agree that the infinite norm of E is 2.1567313570205675\n"
     ]
    }
   ],
   "source": [
    "E = np.random.rand(3,4)\n",
    "maxsumI=LINorm(E)\n",
    "if maxsumI==la.norm(E,np.inf):\n",
    "    print(\"These results agree that the infinite norm of E is\", maxsumI)\n",
    "else:\n",
    "    print(\"These results do not agree\")\n"
   ]
  },
  {
   "cell_type": "markdown",
   "metadata": {},
   "source": [
    "Commit your notebook to git and push it to GitHub.\n",
    "\n",
    "# Question 3: ill-conditions systems of equations\n",
    "\n",
    "In this question you can use any of NumPy's functions.\n",
    "\n",
    "## Q3a\n",
    "\n",
    "Which of the following three matrices, $A1, A2, A3$, are ill-conditioned. State the reason for your conclusion."
   ]
  },
  {
   "cell_type": "code",
   "execution_count": 36,
   "metadata": {},
   "outputs": [],
   "source": [
    "A1 = np.array([[ 2.852416473483e-01,  3.803483118694e-01,  2.697704226632e-01,  6.810611849029e-01],\n",
    "       [ 6.622827828376e-01,  6.447943415836e-01,  4.387842058829e-01,  1.530575702376e+00],\n",
    "       [ 3.672130860703e-01,  8.309522079704e-01,  9.975487474007e-01,  5.678296337101e-01],\n",
    "       [ 4.036490000599e-01,  6.865978225967e-06,  8.788095913773e-01, -7.150472427928e-02]])\n",
    "\n",
    "A2 = np.array([[0.988746460106, 0.351486109477, 0.024911477532, 0.384039749683],\n",
    "       [0.282104657306, 0.239884151775, 0.36170151991 , 0.903082266861],\n",
    "       [0.59333290915 , 0.637178863968, 0.241229214635, 0.685595037901],\n",
    "       [0.013591747828, 0.917926970364, 0.458689093885, 0.157821121254]])\n",
    "\n",
    "A3 = np.array([[0.131923621844, 0.245316154195, 0.732362341613, 0.957047891764],\n",
    "       [0.91290446184 , 0.512312007959, 0.391938831444, 0.092509684772],\n",
    "       [0.648708523652, 0.608576675797, 0.576773587276, 0.065385122929],\n",
    "       [0.502955480393, 0.084082960221, 0.659487390444, 0.662958739412]])"
   ]
  },
  {
   "cell_type": "code",
   "execution_count": 37,
   "metadata": {},
   "outputs": [
    {
     "name": "stdout",
     "output_type": "stream",
     "text": [
      "A1's condition number is 13334921820.764688 \n",
      "A2's condition number is 21.552466488381857 \n",
      "A3's condition number is 15.122449699410627\n"
     ]
    }
   ],
   "source": [
    "#Condition number for A1\n",
    "A1CN=(la.norm(A1,2))*(la.norm(la.inv(A1),2))\n",
    "\n",
    "#Condition number for A2\n",
    "A2CN=(la.norm(A2,2))*(la.norm(la.inv(A2),2))\n",
    "\n",
    "#Condition number for A3\n",
    "A3CN=(la.norm(A3,2))*(la.norm(la.inv(A3),2))\n",
    "\n",
    "print(\"A1's condition number is\",A1CN,\"\\nA2's condition number is\",A2CN,\"\\nA3's condition number is\",A3CN)"
   ]
  },
  {
   "cell_type": "markdown",
   "metadata": {},
   "source": [
    "# Q3b\n",
    "\n",
    "With $b = [1,2,3,4]$ and $\\delta b = [0.1,0,0,0]$ for $A1$ and $A2$ calculate the percentage change in $x$ due to a small change in $b$, i.e., calculate \n",
    "\n",
    "$$100\\times\\frac{\\lVert \\delta x_i\\rVert_2}{\\lVert x_i \\rVert_2}\\quad\\text{and}\\quad 100\\times\\frac{\\lVert \\delta b\\rVert_2}{\\lVert b \\rVert_2}$$\n",
    "\n",
    "where $(x_i+\\delta x_i)  = A_i^{-1}(b+\\delta b)$ and $i\\in\\{1,2\\}$."
   ]
  },
  {
   "cell_type": "code",
   "execution_count": 38,
   "metadata": {},
   "outputs": [
    {
     "name": "stdout",
     "output_type": "stream",
     "text": [
      "The percentages for A1 are approximately 183% for b, and 49518246157651% for x\n",
      "The percentages for A2 are approximately 183% for b, and 175273% for x\n"
     ]
    }
   ],
   "source": [
    "b=np.array([[1],[2],[3],[4]])\n",
    "db=np.array([[0.1],[0],[0],[0]])\n",
    "\n",
    "cb=100*(la.norm(db,2))/(la.norm(b,2))\n",
    "\n",
    "#Finding the percentages for A1\n",
    "A1inv=la.inv(A1)\n",
    "dx1=A1inv*(b+db)-A1\n",
    "cx1=100*(la.norm(dx1,2))/(la.norm(A1,2))\n",
    "\n",
    "#Finding the Percentages for A2\n",
    "A2inv=la.inv(A2)\n",
    "dx2=A2inv*(b+db)-A2\n",
    "cx2=100*(la.norm(dx2,2))/(la.norm(A2,2))\n",
    "\n",
    "print(\"The percentages for A1 are approximately {:.0%} for b, and {:.0%} for x\".format(cb,cx1))\n",
    "print(\"The percentages for A2 are approximately {:.0%} for b, and {:.0%} for x\".format(cb,cx2))"
   ]
  },
  {
   "cell_type": "markdown",
   "metadata": {},
   "source": [
    "Which system of equations is more sensitive to small changes in $b$? How could you have guessed this from the answer to the Q3a?"
   ]
  },
  {
   "cell_type": "code",
   "execution_count": 39,
   "metadata": {},
   "outputs": [],
   "source": [
    "#The system A1 is far more sensitive to small changes in b, this could have been seen in Q3a from the fact that it's condition\n",
    "#number is so large.\n"
   ]
  },
  {
   "cell_type": "markdown",
   "metadata": {},
   "source": [
    "Commit your notebook to git and push it to GitHub.\n",
    "\n",
    "# Question 4: eigensystems\n",
    "\n",
    "In this question we look at finding eigenvalues and eigenvectors\n",
    "\n",
    "## Q4a\n",
    "\n",
    "You may use any of NumPy's functions for this sub-question.\n",
    "\n",
    "Find the eigenvalues and eigenvectors for the below matrix. Print out the eigenvalues sorted by descending value and explicitly show that eigenvalues/eigenvector pairs satisfy $Ax = \\lambda x$."
   ]
  },
  {
   "cell_type": "code",
   "execution_count": 40,
   "metadata": {},
   "outputs": [
    {
     "name": "stdout",
     "output_type": "stream",
     "text": [
      "[[1 4 5]\n",
      " [4 5 4]\n",
      " [6 7 9]]\n"
     ]
    }
   ],
   "source": [
    "F = np.array([[1,4,5],[4,5,4],[6,7,9]])\n",
    "print(F)"
   ]
  },
  {
   "cell_type": "code",
   "execution_count": 41,
   "metadata": {},
   "outputs": [
    {
     "name": "stdout",
     "output_type": "stream",
     "text": [
      "The three eigenvalues for the matrix F are [15.78569318  1.26595327 -2.05164645] \n",
      "\n",
      "The results agree for F*x and e*x, we can see the following. \n",
      "F*x= [ -6.1962015   -7.01266016 -12.71289871] and e*x= [ -6.1962015   -7.01266016 -12.71289871] \n",
      "\n",
      "The results agree for F*x and e*x, we can see the following. \n",
      "F*x= [ 0.12430099 -0.98053324  0.79103825] and e*x= [ 0.12430099 -0.98053324  0.79103825] \n",
      "\n",
      "The results agree for F*x and e*x, we can see the following. \n",
      "F*x= [ 1.83806756 -0.74382849 -0.52676368] and e*x= [ 1.83806756 -0.74382849 -0.52676368] \n",
      "\n"
     ]
    }
   ],
   "source": [
    "eigval,eigvec=la.eig(F)\n",
    "idx = np.argsort(eigval)[::-1]\n",
    "eigval = eigval[idx]\n",
    "eigvec = eigvec[:,idx]\n",
    "print(\"The three eigenvalues for the matrix F are\",eigval,\"\\n\")\n",
    "\n",
    "for i in range(0,3):\n",
    "    Fx=np.dot(F,eigvec[:,i])\n",
    "    ex=np.dot(eigval[i],eigvec[:,i])\n",
    "    \n",
    "    if (Fx==ex).all:\n",
    "        print(\"The results agree for F*x and e*x, we can see the following.\",\"\\nF*x=\",Fx,\"and e*x=\",ex,\"\\n\")"
   ]
  },
  {
   "cell_type": "markdown",
   "metadata": {},
   "source": [
    "# Q4b\n",
    "\n",
    "Without using NumPy's `la.eig()` (or similar functions), find the 4 eigenvalues and eigenvectors of the following matrix. Hint: Use the power method for the max eigenvalue (given below in `MaxEigenvalue`), the power method applied to the inverse for the smallest eigenvalue, and apply Hotelling's deflation twice to find the second and third eigenvalues/eigenvectors."
   ]
  },
  {
   "cell_type": "code",
   "execution_count": 20,
   "metadata": {},
   "outputs": [],
   "source": [
    "A = np.array([[2.65287619, 1.58615494, 1.47170961, 1.40586081],\n",
    "       [1.58615494, 1.17577323, 0.72084593, 0.79382861],\n",
    "       [1.47170961, 0.72084593, 1.18111969, 0.6654689 ],\n",
    "       [1.40586081, 0.79382861, 0.6654689 , 0.84502394]])"
   ]
  },
  {
   "cell_type": "code",
   "execution_count": 21,
   "metadata": {},
   "outputs": [],
   "source": []
  },
  {
   "cell_type": "code",
   "execution_count": null,
   "metadata": {},
   "outputs": [],
   "source": []
  },
  {
   "cell_type": "markdown",
   "metadata": {},
   "source": [
    "Check your answers against Numpy's results from `la.eig(A)`"
   ]
  },
  {
   "cell_type": "code",
   "execution_count": null,
   "metadata": {},
   "outputs": [],
   "source": []
  },
  {
   "cell_type": "code",
   "execution_count": null,
   "metadata": {},
   "outputs": [],
   "source": []
  },
  {
   "cell_type": "markdown",
   "metadata": {},
   "source": [
    "Commit your notebook to git and push it to GitHub. Upload your completed assignment to BrightSpace."
   ]
  }
 ],
 "metadata": {
  "kernelspec": {
   "display_name": "Python 3",
   "language": "python",
   "name": "python3"
  },
  "language_info": {
   "codemirror_mode": {
    "name": "ipython",
    "version": 3
   },
   "file_extension": ".py",
   "mimetype": "text/x-python",
   "name": "python",
   "nbconvert_exporter": "python",
   "pygments_lexer": "ipython3",
   "version": "3.7.4"
  }
 },
 "nbformat": 4,
 "nbformat_minor": 2
}
