{
 "cells": [
  {
   "cell_type": "code",
   "execution_count": 4,
   "metadata": {},
   "outputs": [],
   "source": [
    "import numpy as np\n",
    "import matplotlib.pyplot as plt"
   ]
  },
  {
   "cell_type": "markdown",
   "metadata": {},
   "source": [
    "# Question 1"
   ]
  },
  {
   "cell_type": "code",
   "execution_count": 5,
   "metadata": {},
   "outputs": [],
   "source": [
    "#Question 1a\n",
    "\n",
    "def VectorLength(x,y):\n",
    "    #Using Pythagorean Theorem\n",
    "    r=np.sqrt(x**2+y**2)\n",
    "    print(\"The vector with Cartesian coordinates (\", x, \",\", y, \") has a length of\", round(r,5))\n",
    "    return r"
   ]
  },
  {
   "cell_type": "code",
   "execution_count": 6,
   "metadata": {},
   "outputs": [
    {
     "name": "stdout",
     "output_type": "stream",
     "text": [
      "The vector with Cartesian coordinates ( 5 , 6 ) has a length of 7.81025\n",
      "The vector with Cartesian coordinates ( -1 , 5 ) has a length of 5.09902\n"
     ]
    },
    {
     "data": {
      "text/plain": [
       "5.0990195135927845"
      ]
     },
     "execution_count": 6,
     "metadata": {},
     "output_type": "execute_result"
    }
   ],
   "source": [
    "#Question 1b\n",
    "\n",
    "VectorLength(5,6)\n",
    "VectorLength(-1,5)"
   ]
  },
  {
   "cell_type": "code",
   "execution_count": 7,
   "metadata": {},
   "outputs": [
    {
     "name": "stdout",
     "output_type": "stream",
     "text": [
      "Sin(1) = 0.841\n"
     ]
    }
   ],
   "source": [
    "#Question 1c\n",
    "\n",
    "print(\"Sin(1) = %.3f\" % np.sin(1))"
   ]
  },
  {
   "cell_type": "code",
   "execution_count": 8,
   "metadata": {},
   "outputs": [],
   "source": [
    "#Question 1d\n",
    "#Notebook committed"
   ]
  },
  {
   "cell_type": "markdown",
   "metadata": {},
   "source": [
    "## Question 2"
   ]
  },
  {
   "cell_type": "code",
   "execution_count": 29,
   "metadata": {},
   "outputs": [],
   "source": [
    "#Question 2a, b, c\n",
    "\n",
    "#Function to check if a number is prime\n",
    "def IsPrime(n):\n",
    "    if n==1:\n",
    "        return 0\n",
    "    i=2\n",
    "    \n",
    "    #Fixed code to include possibility that n is a perfect square, so square root of n is included\n",
    "    while i<=np.sqrt(n):\n",
    "        #For each i, check if it divides n\n",
    "        #print(i)\n",
    "        if(n % i == 0):\n",
    "            return 0\n",
    "        i+=1\n",
    "        \n",
    "    #If no divisors are found, the number is prime\n",
    "    return 1"
   ]
  },
  {
   "cell_type": "code",
   "execution_count": 36,
   "metadata": {},
   "outputs": [
    {
     "name": "stdout",
     "output_type": "stream",
     "text": [
      "168\n"
     ]
    }
   ],
   "source": [
    "#Question 2e\n",
    "\n",
    "#Initiation a counter variable\n",
    "NumOfPrimes=0\n",
    "\n",
    "#Creating a for loop to iterate the function over the interval [1,999]\n",
    "for i in range(1,1000):\n",
    "    if IsPrime(i)==1:\n",
    "        NumOfPrimes+=1\n",
    "\n",
    "print(NumOfPrimes)"
   ]
  },
  {
   "cell_type": "code",
   "execution_count": 39,
   "metadata": {},
   "outputs": [],
   "source": [
    "#Question 2f\n",
    "\n",
    "def PrimeCount(x):\n",
    "    #Initiation a counter variable\n",
    "    total=0\n",
    "    \n",
    "    #Accounting for the x=1 case\n",
    "    if x == 1:\n",
    "        return 0\n",
    "    \n",
    "    #Beginning the while statement for cases greater than 1\n",
    "    for j in range(2,x):\n",
    "        if IsPrime(j) == 1:\n",
    "            total+=1\n",
    "    \n",
    "    return total"
   ]
  },
  {
   "cell_type": "code",
   "execution_count": 42,
   "metadata": {},
   "outputs": [
    {
     "data": {
      "text/plain": [
       "1229"
      ]
     },
     "execution_count": 42,
     "metadata": {},
     "output_type": "execute_result"
    }
   ],
   "source": [
    "PrimeCount(1000)\n",
    "PrimeCount(10000)"
   ]
  },
  {
   "cell_type": "code",
   "execution_count": 43,
   "metadata": {},
   "outputs": [],
   "source": [
    "#Question 2g\n",
    "\n",
    "x = np.arange(0, 40, 1)\n",
    "Pi = np.zeros(40)\n",
    "i=0\n",
    "while i<np.size(Pi):\n",
    "    Pi[i]=PrimeCount(i)\n",
    "    i+=1"
   ]
  },
  {
   "cell_type": "code",
   "execution_count": 47,
   "metadata": {},
   "outputs": [
    {
     "data": {
      "text/plain": [
       "Text(0, 0.5, 'Pi(x)')"
      ]
     },
     "execution_count": 47,
     "metadata": {},
     "output_type": "execute_result"
    },
    {
     "data": {
      "image/png": "[encoded data removed]",
      "text/plain": [
       "<Figure size 432x288 with 1 Axes>"
      ]
     },
     "metadata": {
      "needs_background": "light"
     },
     "output_type": "display_data"
    }
   ],
   "source": [
    "plt.plot(x, Pi, 'ro')\n",
    "plt.xlabel('x')\n",
    "plt.ylabel('Pi(x)')"
   ]
  },
  {
   "cell_type": "code",
   "execution_count": null,
   "metadata": {},
   "outputs": [],
   "source": []
  }
 ],
 "metadata": {
  "kernelspec": {
   "display_name": "Python 3",
   "language": "python",
   "name": "python3"
  },
  "language_info": {
   "codemirror_mode": {
    "name": "ipython",
    "version": 3
   },
   "file_extension": ".py",
   "mimetype": "text/x-python",
   "name": "python",
   "nbconvert_exporter": "python",
   "pygments_lexer": "ipython3",
   "version": "3.7.4"
  }
 },
 "nbformat": 4,
 "nbformat_minor": 2
}
