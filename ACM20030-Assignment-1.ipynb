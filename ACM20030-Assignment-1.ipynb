{
 "cells": [
  {
   "cell_type": "code",
   "execution_count": 15,
   "metadata": {},
   "outputs": [],
   "source": [
    "import numpy as np\n",
    "import matplotlib.pyplot as plt"
   ]
  },
  {
   "cell_type": "markdown",
   "metadata": {},
   "source": [
    "# Question 1"
   ]
  },
  {
   "cell_type": "markdown",
   "metadata": {},
   "source": [
    "#### Question 1(a)"
   ]
  },
  {
   "cell_type": "code",
   "execution_count": 28,
   "metadata": {},
   "outputs": [],
   "source": [
    "def VectorLength(x,y):\n",
    "    #Using Pythagorean Theorem\n",
    "    r=np.sqrt(x**2+y**2)\n",
    "    print(\"The vector with Cartesian coordinates (\", x, \",\", y, \") has a length of\", round(r,5))\n",
    "    return"
   ]
  },
  {
   "cell_type": "markdown",
   "metadata": {},
   "source": [
    "#### Question 1(b)"
   ]
  },
  {
   "cell_type": "code",
   "execution_count": 29,
   "metadata": {},
   "outputs": [
    {
     "name": "stdout",
     "output_type": "stream",
     "text": [
      "The vector with Cartesian coordinates ( 5 , 6 ) has a length of 7.81025\n",
      "The vector with Cartesian coordinates ( -1 , 5 ) has a length of 5.09902\n"
     ]
    }
   ],
   "source": [
    "VectorLength(5,6)\n",
    "VectorLength(-1,5)"
   ]
  },
  {
   "cell_type": "markdown",
   "metadata": {},
   "source": [
    "#### Question 1(c)"
   ]
  },
  {
   "cell_type": "code",
   "execution_count": 30,
   "metadata": {},
   "outputs": [
    {
     "name": "stdout",
     "output_type": "stream",
     "text": [
      "Sin(1) = 0.841\n"
     ]
    }
   ],
   "source": [
    "print(\"Sin(1) = %.3f\" % np.sin(1))"
   ]
  },
  {
   "cell_type": "markdown",
   "metadata": {},
   "source": [
    "#### Question 1d\n",
    "Notebook was committed to repositorty and the changes were pushed to GitHub."
   ]
  },
  {
   "cell_type": "markdown",
   "metadata": {},
   "source": [
    "## Question 2"
   ]
  },
  {
   "cell_type": "markdown",
   "metadata": {},
   "source": [
    "#### Question 2(a, b, c)"
   ]
  },
  {
   "cell_type": "code",
   "execution_count": 31,
   "metadata": {},
   "outputs": [],
   "source": [
    "#Function to check if a number is prime\n",
    "def IsPrime(n):\n",
    "    if n==1:\n",
    "        return 0\n",
    "    i=2\n",
    "    \n",
    "    #Fixed code to include possibility that n is a perfect square, so square root of n is included\n",
    "    while i<=np.sqrt(n):\n",
    "        #For each i, check if it divides n\n",
    "        #print(i)\n",
    "        if(n % i == 0):\n",
    "            return 0\n",
    "        i+=1\n",
    "        \n",
    "    #If no divisors are found, the number is prime\n",
    "    return 1"
   ]
  },
  {
   "cell_type": "markdown",
   "metadata": {},
   "source": [
    "#### Question 2(d)\n",
    "Notebook was committed to repositorty and the changes were pushed to GitHub."
   ]
  },
  {
   "cell_type": "markdown",
   "metadata": {},
   "source": [
    "#### Question 2(e)"
   ]
  },
  {
   "cell_type": "code",
   "execution_count": 32,
   "metadata": {},
   "outputs": [
    {
     "name": "stdout",
     "output_type": "stream",
     "text": [
      "168\n"
     ]
    }
   ],
   "source": [
    "#Initiation a counter variable\n",
    "NumOfPrimes=0\n",
    "\n",
    "#Creating a for loop to iterate the function over the interval [1,999]\n",
    "for i in range(1,1000):\n",
    "    if IsPrime(i)==1:\n",
    "        NumOfPrimes+=1\n",
    "\n",
    "print(NumOfPrimes)"
   ]
  },
  {
   "cell_type": "markdown",
   "metadata": {},
   "source": [
    "#### Question 2(f)"
   ]
  },
  {
   "cell_type": "code",
   "execution_count": 43,
   "metadata": {},
   "outputs": [],
   "source": [
    "def PrimeCount(x):\n",
    "    #Initiation a counter variable\n",
    "    total=0\n",
    "    \n",
    "    #Accounting for the x=1 case\n",
    "    if x == 1:\n",
    "        return 0\n",
    "    \n",
    "    #Beginning the while statement for cases greater than 1\n",
    "    for j in range(2,x):\n",
    "        if IsPrime(j) == 1:\n",
    "            total+=1\n",
    "    return total"
   ]
  },
  {
   "cell_type": "code",
   "execution_count": 44,
   "metadata": {},
   "outputs": [
    {
     "name": "stdout",
     "output_type": "stream",
     "text": [
      "168\n",
      "1229\n"
     ]
    }
   ],
   "source": [
    "print(PrimeCount(1000))\n",
    "print(PrimeCount(10000))"
   ]
  },
  {
   "cell_type": "markdown",
   "metadata": {},
   "source": [
    "#### Question 2(g)"
   ]
  },
  {
   "cell_type": "code",
   "execution_count": 45,
   "metadata": {},
   "outputs": [],
   "source": [
    "#Question 2g\n",
    "\n",
    "x = np.arange(0, 40, 1)\n",
    "Pi = np.zeros(40)\n",
    "i=0\n",
    "while i<np.size(Pi):\n",
    "    Pi[i]=PrimeCount(i)\n",
    "    i+=1"
   ]
  },
  {
   "cell_type": "code",
   "execution_count": 46,
   "metadata": {},
   "outputs": [
    {
     "data": {
      "image/png": "[encoded data removed]",
      "text/plain": [
       "<Figure size 432x288 with 1 Axes>"
      ]
     },
     "metadata": {
      "needs_background": "light"
     },
     "output_type": "display_data"
    }
   ],
   "source": [
    "plt.plot(x, Pi, 'ro')\n",
    "plt.xlabel('x')\n",
    "plt.ylabel('Pi(x)')\n",
    "plt.grid()"
   ]
  },
  {
   "cell_type": "markdown",
   "metadata": {},
   "source": [
    "#### Question 2(h)\n",
    "Notebook was committed to repositorty and the changes were pushed to GitHub."
   ]
  },
  {
   "cell_type": "markdown",
   "metadata": {},
   "source": [
    "## Question 3"
   ]
  },
  {
   "cell_type": "markdown",
   "metadata": {},
   "source": [
    "#### Question 3(a)\n",
    "File PowerLawOrExponent.txt was downloaded, committed to repositorty, pushed to GitHub."
   ]
  },
  {
   "cell_type": "markdown",
   "metadata": {},
   "source": [
    "#### Question 3(b)"
   ]
  },
  {
   "cell_type": "code",
   "execution_count": 47,
   "metadata": {},
   "outputs": [],
   "source": [
    "a = np.loadtxt('PowerLawOrExponential.txt')\n",
    "\n",
    "#Changed variable names in order to avoid reassignment from previous question where same names are used\n",
    "x1=a[:, 0]\n",
    "y1=a[:, -1]"
   ]
  },
  {
   "cell_type": "markdown",
   "metadata": {},
   "source": [
    "#### Question 3(c)"
   ]
  },
  {
   "cell_type": "code",
   "execution_count": 48,
   "metadata": {},
   "outputs": [
    {
     "data": {
      "image/png": "[encoded data removed]",
      "text/plain": [
       "<Figure size 432x288 with 1 Axes>"
      ]
     },
     "metadata": {
      "needs_background": "light"
     },
     "output_type": "display_data"
    }
   ],
   "source": [
    "plt.plot(x1, y1)\n",
    "plt.xlabel('x')\n",
    "plt.ylabel('log(y)')\n",
    "plt.yscale('log')\n",
    "plt.grid()"
   ]
  },
  {
   "cell_type": "code",
   "execution_count": 49,
   "metadata": {},
   "outputs": [
    {
     "data": {
      "image/png": "[encoded data removed]",
      "text/plain": [
       "<Figure size 432x288 with 1 Axes>"
      ]
     },
     "metadata": {
      "needs_background": "light"
     },
     "output_type": "display_data"
    }
   ],
   "source": [
    "plt.plot(x1, y1)\n",
    "plt.xlabel('log(x)')\n",
    "plt.ylabel('log(y)')\n",
    "plt.loglog()\n",
    "plt.grid()"
   ]
  },
  {
   "cell_type": "markdown",
   "metadata": {},
   "source": [
    "#### Question 3(d)\n",
    "\n",
    "This is a discrete representation of the power law as when both variables are plotted against each other with logarithmic\n",
    "axes they present themselves as having a linear relationship. In particular, this is a discrete representation as there was a finite amount of data used to plot the above graph. This is sufficient to show that the two variables have a\n",
    "power law distribution. (1.)"
   ]
  },
  {
   "cell_type": "markdown",
   "metadata": {},
   "source": [
    "#### Question 3(e)\n",
    "\n",
    "The value of n is determined by the slope of the loglog graph. If we take $\\frac{y_{2}-y_{1}}{x_{2}-x_{1}}$ with the points $(10^{1},10^{2})$ as our $(x_{2},y_{2})$ and $(10^{0},10^{0})$ as our $(x_{1},y_{1})$ we obtain $\\frac{10^{2}-10^{0}}{10^{1}-10^{0}}$ whcih gives us a slope of 11 $\\Rightarrow n = 11$ (2.)"
   ]
  },
  {
   "cell_type": "markdown",
   "metadata": {},
   "source": [
    "I used external resources as I have never encountered power laws before. This was the specific material I consulted for this question:\n",
    "\n",
    "1. Glen, Stephanie. \"Power Law And Power Law Distribution - Statistics How To\". Statistics How To, 2020, https://www.statisticshowto.com/power-law/.\n",
    "\n",
    "2. Milojević, S., 2010. Power law distributions in information science: Making the case for logarithmic binning. Journal of the American Society for Information Science and Technology, 61(12), pp.2417-2425."
   ]
  },
  {
   "cell_type": "code",
   "execution_count": null,
   "metadata": {},
   "outputs": [],
   "source": []
  }
 ],
 "metadata": {
  "kernelspec": {
   "display_name": "Python 3",
   "language": "python",
   "name": "python3"
  },
  "language_info": {
   "codemirror_mode": {
    "name": "ipython",
    "version": 3
   },
   "file_extension": ".py",
   "mimetype": "text/x-python",
   "name": "python",
   "nbconvert_exporter": "python",
   "pygments_lexer": "ipython3",
   "version": "3.7.4"
  }
 },
 "nbformat": 4,
 "nbformat_minor": 2
}
