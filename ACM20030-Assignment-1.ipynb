{
 "cells": [
  {
   "cell_type": "code",
   "execution_count": 4,
   "metadata": {},
   "outputs": [],
   "source": [
    "import numpy as np\n",
    "import matplotlib.pyplot as plt"
   ]
  },
  {
   "cell_type": "markdown",
   "metadata": {},
   "source": [
    "# Question 1"
   ]
  },
  {
   "cell_type": "code",
   "execution_count": 5,
   "metadata": {},
   "outputs": [],
   "source": [
    "#Question 1a\n",
    "\n",
    "def VectorLength(x,y):\n",
    "    #Using Pythagorean Theorem\n",
    "    r=np.sqrt(x**2+y**2)\n",
    "    print(\"The vector with Cartesian coordinates (\", x, \",\", y, \") has a length of\", round(r,5))\n",
    "    return r"
   ]
  },
  {
   "cell_type": "code",
   "execution_count": 6,
   "metadata": {},
   "outputs": [
    {
     "name": "stdout",
     "output_type": "stream",
     "text": [
      "The vector with Cartesian coordinates ( 5 , 6 ) has a length of 7.81025\n",
      "The vector with Cartesian coordinates ( -1 , 5 ) has a length of 5.09902\n"
     ]
    },
    {
     "data": {
      "text/plain": [
       "5.0990195135927845"
      ]
     },
     "execution_count": 6,
     "metadata": {},
     "output_type": "execute_result"
    }
   ],
   "source": [
    "#Question 1b\n",
    "\n",
    "VectorLength(5,6)\n",
    "VectorLength(-1,5)"
   ]
  },
  {
   "cell_type": "code",
   "execution_count": 7,
   "metadata": {},
   "outputs": [
    {
     "name": "stdout",
     "output_type": "stream",
     "text": [
      "Sin(1) = 0.841\n"
     ]
    }
   ],
   "source": [
    "#Question 1c\n",
    "\n",
    "print(\"Sin(1) = %.3f\" % np.sin(1))"
   ]
  },
  {
   "cell_type": "code",
   "execution_count": 8,
   "metadata": {},
   "outputs": [],
   "source": [
    "#Question 1d\n",
    "#Notebook committed"
   ]
  },
  {
   "cell_type": "markdown",
   "metadata": {},
   "source": [
    "## Question 2"
   ]
  },
  {
   "cell_type": "code",
   "execution_count": 29,
   "metadata": {},
   "outputs": [],
   "source": [
    "#Question 2a, b, c\n",
    "\n",
    "#Function to check if a number is prime\n",
    "def IsPrime(n):\n",
    "    if n==1:\n",
    "        return 0\n",
    "    i=2\n",
    "    \n",
    "    #Fixed code to include possibility that n is a perfect square, so square root of n is included\n",
    "    while i<=np.sqrt(n):\n",
    "        #For each i, check if it divides n\n",
    "        #print(i)\n",
    "        if(n % i == 0):\n",
    "            return 0\n",
    "        i+=1\n",
    "        \n",
    "    #If no divisors are found, the number is prime\n",
    "    return 1"
   ]
  },
  {
   "cell_type": "code",
   "execution_count": 31,
   "metadata": {},
   "outputs": [
    {
     "name": "stdout",
     "output_type": "stream",
     "text": [
      "1 0\n",
      "2 1\n",
      "3 1\n",
      "4 0\n",
      "5 1\n",
      "6 0\n",
      "7 1\n",
      "8 0\n",
      "9 0\n",
      "10 0\n"
     ]
    }
   ],
   "source": [
    "for i in range(1,11):\n",
    "    print(i, IsPrime(i))"
   ]
  },
  {
   "cell_type": "code",
   "execution_count": null,
   "metadata": {},
   "outputs": [],
   "source": []
  }
 ],
 "metadata": {
  "kernelspec": {
   "display_name": "Python 3",
   "language": "python",
   "name": "python3"
  },
  "language_info": {
   "codemirror_mode": {
    "name": "ipython",
    "version": 3
   },
   "file_extension": ".py",
   "mimetype": "text/x-python",
   "name": "python",
   "nbconvert_exporter": "python",
   "pygments_lexer": "ipython3",
   "version": "3.7.4"
  }
 },
 "nbformat": 4,
 "nbformat_minor": 2
}
